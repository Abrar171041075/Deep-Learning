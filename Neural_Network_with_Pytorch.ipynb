{
  "nbformat": 4,
  "nbformat_minor": 0,
  "metadata": {
    "colab": {
      "name": "Neural Network with Pytorch.ipynb",
      "provenance": [],
      "collapsed_sections": [],
      "authorship_tag": "ABX9TyO20ELx3EoIQNzMFc8I4cZF",
      "include_colab_link": true
    },
    "kernelspec": {
      "name": "python3",
      "display_name": "Python 3"
    },
    "language_info": {
      "name": "python"
    }
  },
  "cells": [
    {
      "cell_type": "markdown",
      "metadata": {
        "id": "view-in-github",
        "colab_type": "text"
      },
      "source": [
        "<a href=\"https://colab.research.google.com/github/Abrar171041075/Deep-Learning/blob/main/Neural_Network_with_Pytorch.ipynb\" target=\"_parent\"><img src=\"https://colab.research.google.com/assets/colab-badge.svg\" alt=\"Open In Colab\"/></a>"
      ]
    },
    {
      "cell_type": "code",
      "execution_count": null,
      "metadata": {
        "id": "yDdP78pF9h4f"
      },
      "outputs": [],
      "source": [
        "from torch import nn\n",
        "#import torch.nn as nn"
      ]
    },
    {
      "cell_type": "code",
      "source": [
        "class CustomNeuralNetwork(nn.Module):\n",
        "\n",
        "  def __init__(self):\n",
        "      super().__init__()\n",
        "\n",
        "      #layer1\n",
        "      self.conv1 = nn.Conv2d(in_channels= 1, out_channels= 6 , kernel_size= 5) #kernel size always odd\n",
        "      self.conv2 = nn.Conv2d(in_channels= 6, out_channels= 12 , kernel_size= 5)\n",
        "\n",
        "      # fully connected neural network\n",
        "      self.fc1 = nn.Linear(in_features= 12*4*4 , out_features= 120)\n",
        "      self.fc2 = nn.Linear(in_features= 120, out_features= 60)\n",
        "\n",
        "      self.outnode = nn.Linear(in_features= 60, out_features= 10)\n",
        "\n",
        "\n",
        "  def forwardpropagation(self,time):\n",
        "\n",
        "    return time\n",
        "\n",
        "\n"
      ],
      "metadata": {
        "id": "guXfuUbO9imZ"
      },
      "execution_count": null,
      "outputs": []
    },
    {
      "cell_type": "code",
      "source": [
        "network = CustomNeuralNetwork()\n",
        "\n",
        "print(network)"
      ],
      "metadata": {
        "colab": {
          "base_uri": "https://localhost:8080/"
        },
        "id": "iKikAJqLFsq1",
        "outputId": "5e958411-814d-457b-91a2-a078cf7d7fbd"
      },
      "execution_count": null,
      "outputs": [
        {
          "output_type": "stream",
          "name": "stdout",
          "text": [
            "CustomNeuralNetwork(\n",
            "  (conv1): Conv2d(1, 6, kernel_size=(5, 5), stride=(1, 1))\n",
            "  (conv2): Conv2d(6, 12, kernel_size=(5, 5), stride=(1, 1))\n",
            "  (fc1): Linear(in_features=192, out_features=120, bias=True)\n",
            "  (fc2): Linear(in_features=120, out_features=60, bias=True)\n",
            "  (outnode): Linear(in_features=60, out_features=10, bias=True)\n",
            ")\n"
          ]
        }
      ]
    },
    {
      "cell_type": "code",
      "source": [
        "network.conv1.weight "
      ],
      "metadata": {
        "colab": {
          "base_uri": "https://localhost:8080/"
        },
        "id": "Ox1KsrOJHGyf",
        "outputId": "d74f9479-009a-447e-a74e-7ff1d950bf8b"
      },
      "execution_count": null,
      "outputs": [
        {
          "output_type": "execute_result",
          "data": {
            "text/plain": [
              "Parameter containing:\n",
              "tensor([[[[ 0.0832, -0.0431,  0.1659, -0.0096,  0.1605],\n",
              "          [-0.1204, -0.0995, -0.0324,  0.1820, -0.0516],\n",
              "          [ 0.0921, -0.0518,  0.0273,  0.1908, -0.1598],\n",
              "          [ 0.1143, -0.0396, -0.0417, -0.1638, -0.0567],\n",
              "          [-0.0396,  0.0558, -0.1088, -0.1373,  0.1533]]],\n",
              "\n",
              "\n",
              "        [[[-0.1647, -0.0359,  0.1239,  0.0391, -0.1138],\n",
              "          [-0.1772, -0.0867,  0.1053, -0.0740,  0.1017],\n",
              "          [-0.1673,  0.0418, -0.1582, -0.1726, -0.1691],\n",
              "          [-0.0916,  0.0899, -0.0519,  0.0616,  0.0704],\n",
              "          [ 0.1953, -0.1563,  0.0980,  0.0409,  0.0421]]],\n",
              "\n",
              "\n",
              "        [[[ 0.0092, -0.1063, -0.1814,  0.1475,  0.0527],\n",
              "          [-0.0873,  0.0624,  0.1197,  0.0849,  0.1632],\n",
              "          [ 0.0512,  0.1053, -0.1707, -0.0822,  0.1891],\n",
              "          [-0.1060, -0.1587,  0.1330, -0.1847,  0.0838],\n",
              "          [-0.1278, -0.0635,  0.0497,  0.1704,  0.0308]]],\n",
              "\n",
              "\n",
              "        [[[ 0.0083, -0.0783, -0.0560,  0.1242,  0.0857],\n",
              "          [-0.1238,  0.0712, -0.0780,  0.1946,  0.1397],\n",
              "          [-0.1638, -0.0073,  0.0708,  0.1293, -0.1984],\n",
              "          [ 0.1209,  0.1372,  0.1503, -0.1665,  0.0008],\n",
              "          [-0.1010,  0.1232,  0.1284, -0.0034, -0.1829]]],\n",
              "\n",
              "\n",
              "        [[[-0.1789, -0.1468, -0.0765,  0.1848,  0.0566],\n",
              "          [-0.0144,  0.1344, -0.1982,  0.0377, -0.0714],\n",
              "          [-0.0927,  0.0138, -0.0679, -0.1074,  0.0473],\n",
              "          [ 0.1158, -0.1563,  0.0270, -0.0942,  0.1690],\n",
              "          [-0.1026,  0.0788,  0.0938,  0.1725, -0.1599]]],\n",
              "\n",
              "\n",
              "        [[[ 0.0238, -0.0012,  0.0978, -0.1259, -0.1358],\n",
              "          [-0.0352,  0.1325,  0.1988,  0.0286,  0.1950],\n",
              "          [-0.0656, -0.1298,  0.1907, -0.0280,  0.1003],\n",
              "          [ 0.0812, -0.1296,  0.1949,  0.0355, -0.1579],\n",
              "          [ 0.0097,  0.0459, -0.1794, -0.1282, -0.0748]]]], requires_grad=True)"
            ]
          },
          "metadata": {},
          "execution_count": 4
        }
      ]
    },
    {
      "cell_type": "code",
      "source": [
        "# Compulsory parameter of neuran network -> input features value, output features value, kernel size\n",
        "\n",
        "for layername,param in network.named_parameters():\n",
        "  print('\\nLayer Name: ', layername, '\\n','Parameter Result:', param.shape)"
      ],
      "metadata": {
        "colab": {
          "base_uri": "https://localhost:8080/"
        },
        "id": "h7Kk4PNoIUsp",
        "outputId": "6f239a5f-a165-4f17-8895-4f312cb3e0bc"
      },
      "execution_count": null,
      "outputs": [
        {
          "output_type": "stream",
          "name": "stdout",
          "text": [
            "\n",
            "Layer Name:  conv1.weight \n",
            " Parameter Result: torch.Size([6, 1, 5, 5])\n",
            "\n",
            "Layer Name:  conv1.bias \n",
            " Parameter Result: torch.Size([6])\n",
            "\n",
            "Layer Name:  conv2.weight \n",
            " Parameter Result: torch.Size([12, 6, 5, 5])\n",
            "\n",
            "Layer Name:  conv2.bias \n",
            " Parameter Result: torch.Size([12])\n",
            "\n",
            "Layer Name:  fc1.weight \n",
            " Parameter Result: torch.Size([120, 192])\n",
            "\n",
            "Layer Name:  fc1.bias \n",
            " Parameter Result: torch.Size([120])\n",
            "\n",
            "Layer Name:  fc2.weight \n",
            " Parameter Result: torch.Size([60, 120])\n",
            "\n",
            "Layer Name:  fc2.bias \n",
            " Parameter Result: torch.Size([60])\n",
            "\n",
            "Layer Name:  outnode.weight \n",
            " Parameter Result: torch.Size([10, 60])\n",
            "\n",
            "Layer Name:  outnode.bias \n",
            " Parameter Result: torch.Size([10])\n"
          ]
        }
      ]
    },
    {
      "cell_type": "code",
      "source": [
        "network.conv1"
      ],
      "metadata": {
        "colab": {
          "base_uri": "https://localhost:8080/"
        },
        "id": "p6gbobDALv5r",
        "outputId": "f8454864-cecc-4f7d-d868-baf2bb83c942"
      },
      "execution_count": null,
      "outputs": [
        {
          "output_type": "execute_result",
          "data": {
            "text/plain": [
              "Conv2d(1, 6, kernel_size=(5, 5), stride=(1, 1))"
            ]
          },
          "metadata": {},
          "execution_count": 12
        }
      ]
    },
    {
      "cell_type": "code",
      "source": [
        "class CustomNeuralNetwork2(nn.Module):\n",
        "\n",
        "  def __init__(self):\n",
        "      super().__init__()\n",
        "\n",
        "      #layer1\n",
        "      self.conv1 = nn.Conv2d(in_channels= 1, out_channels= 6 , kernel_size= 5) #kernel size always odd\n",
        "      self.conv2 = nn.Conv2d(in_channels= 6, out_channels= 12 , kernel_size= 5)\n",
        "\n",
        "      # fully connected neural network\n",
        "      self.fc1 = nn.Linear(in_features= 12*4*4 , out_features= 120 ,bias = False)\n",
        "      self.fc2 = nn.Linear(in_features= 120, out_features= 60, bias= False)\n",
        "\n",
        "      self.outnode = nn.Linear(in_features= 60, out_features= 10 , bias = False)\n",
        "\n",
        "\n",
        "  def forwardpropagation(self,time):\n",
        "\n",
        "    return time"
      ],
      "metadata": {
        "id": "-dWmm9rRNaGH"
      },
      "execution_count": null,
      "outputs": []
    },
    {
      "cell_type": "code",
      "source": [
        "network2 = CustomNeuralNetwork2()"
      ],
      "metadata": {
        "id": "-MVcp-JQMyKj"
      },
      "execution_count": null,
      "outputs": []
    },
    {
      "cell_type": "code",
      "source": [
        "print(network2)"
      ],
      "metadata": {
        "colab": {
          "base_uri": "https://localhost:8080/"
        },
        "id": "KD4AIjCyNPTL",
        "outputId": "3df2c55f-bb12-40cd-a3af-21a56a36731f"
      },
      "execution_count": null,
      "outputs": [
        {
          "output_type": "stream",
          "name": "stdout",
          "text": [
            "CustomNeuralNetwork2(\n",
            "  (conv1): Conv2d(1, 6, kernel_size=(5, 5), stride=(1, 1))\n",
            "  (conv2): Conv2d(6, 12, kernel_size=(5, 5), stride=(1, 1))\n",
            "  (fc1): Linear(in_features=192, out_features=120, bias=False)\n",
            "  (fc2): Linear(in_features=120, out_features=60, bias=False)\n",
            "  (outnode): Linear(in_features=60, out_features=10, bias=False)\n",
            ")\n"
          ]
        }
      ]
    },
    {
      "cell_type": "code",
      "source": [
        "for layername,param in network2.named_parameters():\n",
        "  print('\\nLayer Name: ', layername, '\\n','Parameter Result:', param.shape)"
      ],
      "metadata": {
        "colab": {
          "base_uri": "https://localhost:8080/"
        },
        "id": "o0LTKReuNstx",
        "outputId": "b5f9360e-c052-433e-9ce8-05d37e35d987"
      },
      "execution_count": null,
      "outputs": [
        {
          "output_type": "stream",
          "name": "stdout",
          "text": [
            "\n",
            "Layer Name:  conv1.weight \n",
            " Parameter Result: torch.Size([6, 1, 5, 5])\n",
            "\n",
            "Layer Name:  conv1.bias \n",
            " Parameter Result: torch.Size([6])\n",
            "\n",
            "Layer Name:  conv2.weight \n",
            " Parameter Result: torch.Size([12, 6, 5, 5])\n",
            "\n",
            "Layer Name:  conv2.bias \n",
            " Parameter Result: torch.Size([12])\n",
            "\n",
            "Layer Name:  fc1.weight \n",
            " Parameter Result: torch.Size([120, 192])\n",
            "\n",
            "Layer Name:  fc2.weight \n",
            " Parameter Result: torch.Size([60, 120])\n",
            "\n",
            "Layer Name:  outnode.weight \n",
            " Parameter Result: torch.Size([10, 60])\n"
          ]
        }
      ]
    }
  ]
}