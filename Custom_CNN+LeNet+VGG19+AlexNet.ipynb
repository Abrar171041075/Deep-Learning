{
  "cells": [
    {
      "cell_type": "markdown",
      "metadata": {
        "id": "view-in-github",
        "colab_type": "text"
      },
      "source": [
        "<a href=\"https://colab.research.google.com/github/Abrar171041075/Deep-Learning/blob/main/Custom_CNN%2BLeNet%2BVGG19%2BAlexNet.ipynb\" target=\"_parent\"><img src=\"https://colab.research.google.com/assets/colab-badge.svg\" alt=\"Open In Colab\"/></a>"
      ]
    },
    {
      "cell_type": "code",
      "source": [
        "import warnings\n",
        "warnings.filterwarnings('ignore') # to ignore any warning you might see in the code"
      ],
      "metadata": {
        "id": "ZyVkt65j67jL"
      },
      "id": "ZyVkt65j67jL",
      "execution_count": 1,
      "outputs": []
    },
    {
      "cell_type": "code",
      "source": [
        "from google.colab import drive\n",
        "drive.mount('/content/drive')"
      ],
      "metadata": {
        "colab": {
          "base_uri": "https://localhost:8080/"
        },
        "id": "MUN8BRa35kao",
        "outputId": "b52fc398-40c3-4544-e2ac-fa20112cd59c"
      },
      "id": "MUN8BRa35kao",
      "execution_count": 2,
      "outputs": [
        {
          "output_type": "stream",
          "name": "stdout",
          "text": [
            "Drive already mounted at /content/drive; to attempt to forcibly remount, call drive.mount(\"/content/drive\", force_remount=True).\n"
          ]
        }
      ]
    },
    {
      "cell_type": "code",
      "source": [
        "#importing dataset\n",
        "no_malaria = \"/content/drive/MyDrive/kaggle_dataset/Dataset/Train/Uninfected\" #uninfected as no_malaria\n",
        "malaria = \"/content/drive/MyDrive/kaggle_dataset/Dataset/Train/Parasite\" #parasitized as malaria\n",
        "image_size = 64  #pixel size per dimension"
      ],
      "metadata": {
        "id": "XxBdaTYB5uda"
      },
      "id": "XxBdaTYB5uda",
      "execution_count": 3,
      "outputs": []
    },
    {
      "cell_type": "code",
      "source": [
        "from tqdm import tqdm\n",
        "import os  # used for IO operation like dealing with directories and files\n",
        "import cv2  # this package for computer vision\n",
        "import numpy as np\n",
        "import matplotlib.pyplot as plt\n",
        "\n",
        "m_data = [] \n",
        "label = []\n"
      ],
      "metadata": {
        "id": "TKLmSTuM6i5X"
      },
      "id": "TKLmSTuM6i5X",
      "execution_count": 4,
      "outputs": []
    },
    {
      "cell_type": "code",
      "source": [
        "# import, convert gray scale, and resize training set images for class 'messy':\n",
        "for image in tqdm(os.listdir(no_malaria)): # listdir to list all files in that directory\n",
        "    path = os.path.join(no_malaria, image) # folder of the parasitized sample images\n",
        "    img = cv2.imread(path)  \n",
        "    img = cv2.resize(img, (image_size, image_size))# resize the image size to 64 pixels * 64 pixels\n",
        "    np_img=np.asarray(img) # convert it to numpy array for visualisations\n",
        "    m_data.append(img)     # append the 'uninfected' images to the  main dataframe\n",
        "    label.append(0)   #append '0' meaning no malaria\n",
        "    \n",
        "for image2 in tqdm(os.listdir(malaria)): \n",
        "    path = os.path.join(malaria, image2)# folder of the parasitized sample images\n",
        "    img2 = cv2.imread(path) \n",
        "    img2 = cv2.resize(img2, (image_size, image_size)) # resize the image size to 64 pixels * 64 pixels \n",
        "    np_img2 =np.asarray(img2)\n",
        "    m_data.append(img2)     # append the 'infected' images to the  main dataframe\n",
        "    label.append(1)  #append '1' meaning  malaria\n"
      ],
      "metadata": {
        "colab": {
          "base_uri": "https://localhost:8080/"
        },
        "id": "zUxjGJS27IRD",
        "outputId": "ed61a1f2-6be6-4c29-fcdc-4af758dd7bc5"
      },
      "id": "zUxjGJS27IRD",
      "execution_count": 5,
      "outputs": [
        {
          "output_type": "stream",
          "name": "stderr",
          "text": [
            "100%|██████████| 196/196 [00:00<00:00, 267.49it/s]\n",
            "100%|██████████| 220/220 [00:00<00:00, 264.62it/s]\n"
          ]
        }
      ]
    },
    {
      "cell_type": "code",
      "source": [
        "plt.figure(figsize=(10,10))\n",
        "plt.subplot(1, 2, 1)\n",
        "plt.imshow(np_img)\n",
        "plt.axis('off')\n",
        "plt.title(\"Uninfected cell\")\n",
        "plt.subplot(1, 2, 2)\n",
        "plt.imshow(np_img2)\n",
        "plt.axis('off')\n",
        "plt.title(\"Infected malaria cells\")"
      ],
      "metadata": {
        "colab": {
          "base_uri": "https://localhost:8080/",
          "height": 318
        },
        "id": "FhxI83xi7Ov_",
        "outputId": "b299a64a-6f95-42a6-eb5c-a9b799104d02"
      },
      "id": "FhxI83xi7Ov_",
      "execution_count": 6,
      "outputs": [
        {
          "output_type": "execute_result",
          "data": {
            "text/plain": [
              "Text(0.5, 1.0, 'Infected malaria cells')"
            ]
          },
          "metadata": {},
          "execution_count": 6
        },
        {
          "output_type": "display_data",
          "data": {
            "text/plain": [
              "<Figure size 720x720 with 2 Axes>"
            ],
            "image/png": "[encoded data removed]"
          },
          "metadata": {
            "needs_background": "light"
          }
        }
      ]
    },
    {
      "cell_type": "code",
      "source": [
        "#dimension of ARRAY dataset (64, 64,3)\n",
        "m_data = np.array(m_data)\n",
        "m_data.shape"
      ],
      "metadata": {
        "colab": {
          "base_uri": "https://localhost:8080/"
        },
        "id": "gZdUIRro7S_t",
        "outputId": "cb3aedf7-fc2d-4c83-9e48-2a724ead2958"
      },
      "id": "gZdUIRro7S_t",
      "execution_count": 7,
      "outputs": [
        {
          "output_type": "execute_result",
          "data": {
            "text/plain": [
              "(416, 64, 64, 3)"
            ]
          },
          "metadata": {},
          "execution_count": 7
        }
      ]
    },
    {
      "cell_type": "code",
      "source": [
        "#converting layers to categories and print shape\n",
        "from tensorflow.keras.utils import to_categorical\n",
        "label = to_categorical(np.array(label))\n",
        "label.shape"
      ],
      "metadata": {
        "colab": {
          "base_uri": "https://localhost:8080/"
        },
        "id": "i22kMwz-7esr",
        "outputId": "9ec0b097-d4f1-49af-e917-4f29f9c20f1a"
      },
      "id": "i22kMwz-7esr",
      "execution_count": 8,
      "outputs": [
        {
          "output_type": "execute_result",
          "data": {
            "text/plain": [
              "(416, 2)"
            ]
          },
          "metadata": {},
          "execution_count": 8
        }
      ]
    },
    {
      "cell_type": "code",
      "source": [
        "#train and test set split\n",
        "from sklearn.model_selection import train_test_split\n",
        "X_train, X_test, y_train, y_test = train_test_split(m_data, label, test_size=0.2, random_state=24)"
      ],
      "metadata": {
        "id": "RSz_t97F70Jn"
      },
      "id": "RSz_t97F70Jn",
      "execution_count": 9,
      "outputs": []
    },
    {
      "cell_type": "code",
      "source": [
        "from tensorflow.keras.models import Sequential\n",
        "from tensorflow.keras.layers import Conv2D, MaxPooling2D, Flatten, Dense, Dropout\n",
        "\n",
        "#model building\n",
        "model = Sequential()\n",
        "model.add(Conv2D(filters=32, kernel_size=(3, 3), input_shape=(64, 64, 3), activation='relu'))\n",
        "model.add(MaxPooling2D(pool_size=(2, 2)))\n",
        "model.add(Dropout(0.2))\n",
        "model.add(Conv2D(filters=32, kernel_size=(3, 3), activation='relu'))\n",
        "model.add(MaxPooling2D(pool_size=(2, 2)))\n",
        "model.add(Dropout(0.2))\n",
        "model.add(Flatten())\n",
        "model.add(Dense(units=512, activation='relu'))\n",
        "model.add(Dropout(0.2))\n",
        "model.add(Dense(units=128, activation='relu'))\n",
        "model.add(Dropout(0.2))\n",
        "model.add(Dense(units=32, activation='relu'))\n",
        "model.add(Dense(units=2, activation='softmax')) #2 units for the two classes\n",
        "\n",
        "#Model Compilation\n",
        "model.compile(loss='categorical_crossentropy', optimizer='adam', metrics=['accuracy'])\n",
        "print(model.summary())"
      ],
      "metadata": {
        "colab": {
          "base_uri": "https://localhost:8080/"
        },
        "id": "PudMb05h8JcK",
        "outputId": "27ee3433-2e2b-4e70-cb64-213f37784e1b"
      },
      "id": "PudMb05h8JcK",
      "execution_count": 10,
      "outputs": [
        {
          "output_type": "stream",
          "name": "stdout",
          "text": [
            "Model: \"sequential\"\n",
            "_________________________________________________________________\n",
            " Layer (type)                Output Shape              Param #   \n",
            "=================================================================\n",
            " conv2d (Conv2D)             (None, 62, 62, 32)        896       \n",
            "                                                                 \n",
            " max_pooling2d (MaxPooling2D  (None, 31, 31, 32)       0         \n",
            " )                                                               \n",
            "                                                                 \n",
            " dropout (Dropout)           (None, 31, 31, 32)        0         \n",
            "                                                                 \n",
            " conv2d_1 (Conv2D)           (None, 29, 29, 32)        9248      \n",
            "                                                                 \n",
            " max_pooling2d_1 (MaxPooling  (None, 14, 14, 32)       0         \n",
            " 2D)                                                             \n",
            "                                                                 \n",
            " dropout_1 (Dropout)         (None, 14, 14, 32)        0         \n",
            "                                                                 \n",
            " flatten (Flatten)           (None, 6272)              0         \n",
            "                                                                 \n",
            " dense (Dense)               (None, 512)               3211776   \n",
            "                                                                 \n",
            " dropout_2 (Dropout)         (None, 512)               0         \n",
            "                                                                 \n",
            " dense_1 (Dense)             (None, 128)               65664     \n",
            "                                                                 \n",
            " dropout_3 (Dropout)         (None, 128)               0         \n",
            "                                                                 \n",
            " dense_2 (Dense)             (None, 32)                4128      \n",
            "                                                                 \n",
            " dense_3 (Dense)             (None, 2)                 66        \n",
            "                                                                 \n",
            "=================================================================\n",
            "Total params: 3,291,778\n",
            "Trainable params: 3,291,778\n",
            "Non-trainable params: 0\n",
            "_________________________________________________________________\n",
            "None\n"
          ]
        }
      ]
    },
    {
      "cell_type": "code",
      "source": [
        "from tensorflow.keras.callbacks import EarlyStopping\n",
        "# using early stopping to control epochs by monitoring 'loss'\n",
        "callbacks = EarlyStopping(monitor='loss', patience=3)"
      ],
      "metadata": {
        "id": "f6EQlOfV8OCQ"
      },
      "id": "f6EQlOfV8OCQ",
      "execution_count": 11,
      "outputs": []
    },
    {
      "cell_type": "code",
      "source": [
        "np.random.seed(24)\n",
        "history = model.fit(X_train, y_train, batch_size = 24, verbose = 1, epochs = 6, validation_data = (X_test, y_test), callbacks = [callbacks])"
      ],
      "metadata": {
        "colab": {
          "base_uri": "https://localhost:8080/"
        },
        "id": "BgzvRlFt8cmv",
        "outputId": "76a6d151-7d4a-421d-ce9c-e12a401a4de3"
      },
      "id": "BgzvRlFt8cmv",
      "execution_count": 12,
      "outputs": [
        {
          "output_type": "stream",
          "name": "stdout",
          "text": [
            "Epoch 1/6\n",
            "14/14 [==============================] - 6s 309ms/step - loss: 41.0977 - accuracy: 0.4759 - val_loss: 0.7960 - val_accuracy: 0.5476\n",
            "Epoch 2/6\n",
            "14/14 [==============================] - 4s 262ms/step - loss: 1.5387 - accuracy: 0.5030 - val_loss: 0.7641 - val_accuracy: 0.4762\n",
            "Epoch 3/6\n",
            "14/14 [==============================] - 3s 247ms/step - loss: 0.8827 - accuracy: 0.5572 - val_loss: 0.6947 - val_accuracy: 0.6071\n",
            "Epoch 4/6\n",
            "14/14 [==============================] - 4s 250ms/step - loss: 0.7811 - accuracy: 0.5422 - val_loss: 0.6642 - val_accuracy: 0.5952\n",
            "Epoch 5/6\n",
            "14/14 [==============================] - 4s 264ms/step - loss: 0.7298 - accuracy: 0.5572 - val_loss: 0.7016 - val_accuracy: 0.4524\n",
            "Epoch 6/6\n",
            "14/14 [==============================] - 2s 147ms/step - loss: 0.6948 - accuracy: 0.5783 - val_loss: 0.6824 - val_accuracy: 0.5119\n"
          ]
        }
      ]
    },
    {
      "cell_type": "code",
      "source": [
        "import matplotlib.pyplot as plt\n",
        "# summarize history for accuracy\n",
        "plt.plot(history.history['accuracy'])\n",
        "plt.plot(history.history['val_accuracy'])\n",
        "plt.title('model accuracy')\n",
        "plt.ylabel('acc')\n",
        "plt.xlabel('epoch')\n",
        "plt.legend(['train', 'test'], loc='upper left')\n",
        "plt.show()\n",
        "# summarize history for loss\n",
        "plt.plot(history.history['loss'])\n",
        "plt.plot(history.history['val_loss'])\n",
        "plt.title('model loss')\n",
        "plt.ylabel('loss')\n",
        "plt.xlabel('epoch')\n",
        "plt.legend(['train', 'test'], loc='upper right')\n",
        "plt.show()"
      ],
      "metadata": {
        "colab": {
          "base_uri": "https://localhost:8080/",
          "height": 573
        },
        "id": "Il02VUmi-aC0",
        "outputId": "d1cb7403-5f72-42fd-dbc6-e8bcf00ba8ca"
      },
      "id": "Il02VUmi-aC0",
      "execution_count": 13,
      "outputs": [
        {
          "output_type": "display_data",
          "data": {
            "text/plain": [
              "<Figure size 432x288 with 1 Axes>"
            ],
            "image/png": "[encoded data removed]"
          },
          "metadata": {
            "needs_background": "light"
          }
        },
        {
          "output_type": "display_data",
          "data": {
            "text/plain": [
              "<Figure size 432x288 with 1 Axes>"
            ],
            "image/png": "[encoded data removed]"
          },
          "metadata": {
            "needs_background": "light"
          }
        }
      ]
    },
    {
      "cell_type": "code",
      "source": [
        "#confusion matrix:\n",
        "from sklearn.metrics import confusion_matrix\n",
        "import seaborn as sns\n",
        "\n",
        "preds = model.predict(X_test) #gets the prediction prob\n",
        "preds = preds.argmax(axis=1)\n",
        "y_true = y_test.argmax(axis=1)\n",
        "mat = confusion_matrix(y_true, preds)\n",
        "sns.heatmap(mat, square=True, annot=True, fmt='d', cbar=False)\n",
        "plt.xlabel('predicted label')\n",
        "plt.ylabel('ground truth')\n",
        "plt.show()"
      ],
      "metadata": {
        "colab": {
          "base_uri": "https://localhost:8080/",
          "height": 279
        },
        "id": "LDJdeank-26s",
        "outputId": "676489ef-1df6-4fa6-997a-6a47f18fcea0"
      },
      "id": "LDJdeank-26s",
      "execution_count": 14,
      "outputs": [
        {
          "output_type": "display_data",
          "data": {
            "text/plain": [
              "<Figure size 432x288 with 1 Axes>"
            ],
            "image/png": "[encoded data removed]"
          },
          "metadata": {
            "needs_background": "light"
          }
        }
      ]
    },
    {
      "cell_type": "code",
      "source": [
        "# classification report:\n",
        "from sklearn.metrics import classification_report\n",
        "y_true = y_test.argmax(axis=1)\n",
        "print(classification_report(y_true,preds))"
      ],
      "metadata": {
        "colab": {
          "base_uri": "https://localhost:8080/"
        },
        "id": "tL-zh3oM-9iV",
        "outputId": "292866b2-c787-4406-9d15-47d257054049"
      },
      "id": "tL-zh3oM-9iV",
      "execution_count": 15,
      "outputs": [
        {
          "output_type": "stream",
          "name": "stdout",
          "text": [
            "              precision    recall  f1-score   support\n",
            "\n",
            "           0       0.55      0.41      0.47        44\n",
            "           1       0.49      0.62      0.55        40\n",
            "\n",
            "    accuracy                           0.51        84\n",
            "   macro avg       0.52      0.52      0.51        84\n",
            "weighted avg       0.52      0.51      0.51        84\n",
            "\n"
          ]
        }
      ]
    },
    {
      "cell_type": "code",
      "source": [
        "#ROC curve and ROC area for each class\n",
        "from sklearn.metrics import roc_curve, auc\n",
        "\n",
        "fpr, tpr, _ = roc_curve(y_true, preds)\n",
        "roc_auc = auc(fpr, tpr)\n",
        "# Plot of a ROC curve for a specific class\n",
        "plt.figure()\n",
        "plt.plot(fpr, tpr, label='ROC curve (area = %0.2f)' % roc_auc)\n",
        "plt.plot([0, 1], [0, 1], 'k--')\n",
        "plt.xlim([0.0, 1.0])\n",
        "plt.ylim([0.0, 1.05])\n",
        "# axis labels\n",
        "plt.xlabel('False Positive Rate')\n",
        "plt.ylabel('True Positive Rate')\n",
        "plt.title('Receiver operating characteristic')\n",
        "plt.legend(loc=\"lower right\")\n",
        "plt.show()"
      ],
      "metadata": {
        "colab": {
          "base_uri": "https://localhost:8080/",
          "height": 295
        },
        "id": "ff43EF-I_A6v",
        "outputId": "5d7bc67a-a365-401d-942f-28c7f6e51424"
      },
      "id": "ff43EF-I_A6v",
      "execution_count": 16,
      "outputs": [
        {
          "output_type": "display_data",
          "data": {
            "text/plain": [
              "<Figure size 432x288 with 1 Axes>"
            ],
            "image/png": "[encoded data removed]"
          },
          "metadata": {
            "needs_background": "light"
          }
        }
      ]
    },
    {
      "cell_type": "code",
      "source": [
        "#pr curve\n",
        "from sklearn.metrics import precision_recall_curve, f1_score, auc\n",
        "\n",
        "precision, recall, _ = precision_recall_curve(y_true, preds)\n",
        "f1, auc = f1_score(y_true, preds), auc(recall, precision)\n",
        "\n",
        "# plot the precision-recall curves\n",
        "plt.plot(recall, precision, label='PR curve: f1=%.2f auc=%.2f' % (f1, auc))\n",
        "# axis labels\n",
        "plt.xlabel('Recall')\n",
        "plt.ylabel('Precision')\n",
        "plt.title('Precision-Recall Curve')\n",
        "# show the legend\n",
        "plt.legend()\n",
        "# show the plot\n",
        "plt.show()"
      ],
      "metadata": {
        "colab": {
          "base_uri": "https://localhost:8080/",
          "height": 295
        },
        "id": "BWPczvDB_EJm",
        "outputId": "526de92a-24ff-43f4-f917-8e0625d57fd2"
      },
      "id": "BWPczvDB_EJm",
      "execution_count": 17,
      "outputs": [
        {
          "output_type": "display_data",
          "data": {
            "text/plain": [
              "<Figure size 432x288 with 1 Axes>"
            ],
            "image/png": "[encoded data removed]"
          },
          "metadata": {
            "needs_background": "light"
          }
        }
      ]
    },
    {
      "cell_type": "code",
      "source": [
        "# #Parasite gray\n",
        "# import os,cv2\n",
        "# path = r'/content/drive/MyDrive/kaggle_dataset/Dataset/Train/Parasite' # Source Folder\n",
        "# dstpath = r'/content/drive/MyDrive/kaggle_dataset/Dataset/Train/gray_parasite' # Destination Folder\n",
        "\n",
        "\n",
        "\n",
        "# try:\n",
        "#     makedirs(dstpath)\n",
        "# except:\n",
        "#     print (\"Directory already exist, images will be written in asme folder\")\n",
        "\n",
        "# # Folder won't used\n",
        "# files = os.listdir(path)\n",
        "\n",
        "# for image in files:\n",
        "#     img = cv2.imread(os.path.join(path,image))\n",
        "#     gray = cv2.cvtColor(img,cv2.COLOR_BGR2GRAY)\n",
        "#     cv2.imwrite(os.path.join(dstpath,image),gray)"
      ],
      "metadata": {
        "id": "A8zgzyNsEIm8"
      },
      "id": "A8zgzyNsEIm8",
      "execution_count": 18,
      "outputs": []
    },
    {
      "cell_type": "code",
      "source": [
        "# #uninfected gray\n",
        "# import os,cv2\n",
        "# path = r'/content/drive/MyDrive/kaggle_dataset/Dataset/Train/Uninfected' # Source Folder\n",
        "# dstpath = r'/content/drive/MyDrive/kaggle_dataset/Dataset/Train/gray_uninfected' # Destination Folder\n",
        "\n",
        "\n",
        "\n",
        "# try:\n",
        "#     makedirs(dstpath)\n",
        "# except:\n",
        "#     print (\"Directory already exist, images will be written in asme folder\")\n",
        "\n",
        "# # Folder won't used\n",
        "# files = os.listdir(path)\n",
        "\n",
        "# for image in files:\n",
        "#     img = cv2.imread(os.path.join(path,image))\n",
        "#     gray = cv2.cvtColor(img,cv2.COLOR_BGR2GRAY)\n",
        "#     cv2.imwrite(os.path.join(dstpath,image),gray)"
      ],
      "metadata": {
        "id": "Ysht41OIEr8H"
      },
      "id": "Ysht41OIEr8H",
      "execution_count": 19,
      "outputs": []
    },
    {
      "cell_type": "code",
      "source": [
        "# #importing dataset\n",
        "# no_malaria = \"/content/drive/MyDrive/kaggle_dataset/Dataset/Train/gray_uninfected\" #uninfected as no_malaria\n",
        "# malaria = \"/content/drive/MyDrive/kaggle_dataset/Dataset/Train/gray_parasite\" #parasitized as malaria\n",
        "# image_size = 28  #pixel size per dimension"
      ],
      "metadata": {
        "id": "h43zOtqlFHdM"
      },
      "id": "h43zOtqlFHdM",
      "execution_count": 20,
      "outputs": []
    },
    {
      "cell_type": "code",
      "source": [
        "# from tqdm import tqdm\n",
        "# import os  # used for IO operation like dealing with directories and files\n",
        "# import cv2  # this package for computer vision\n",
        "# import numpy as np\n",
        "# import matplotlib.pyplot as plt\n",
        "\n",
        "# m_data = [] \n",
        "# label = []\n"
      ],
      "metadata": {
        "id": "nTnoQY9zFZQY"
      },
      "id": "nTnoQY9zFZQY",
      "execution_count": 21,
      "outputs": []
    },
    {
      "cell_type": "code",
      "source": [
        "# # import, convert gray scale, and resize training set images for class 'messy':\n",
        "# for image in tqdm(os.listdir(no_malaria)): # listdir to list all files in that directory\n",
        "#     path = os.path.join(no_malaria, image) # folder of the parasitized sample images\n",
        "#     img = cv2.imread(path)  \n",
        "#     img = cv2.resize(img, (image_size, image_size))# resize the image size to 64 pixels * 64 pixels\n",
        "#     np_img=np.asarray(img) # convert it to numpy array for visualisations\n",
        "#     m_data.append(img)     # append the 'uninfected' images to the  main dataframe\n",
        "#     label.append(0)   #append '0' meaning no malaria\n",
        "    \n",
        "# for image2 in tqdm(os.listdir(malaria)): \n",
        "#     path = os.path.join(malaria, image2)# folder of the parasitized sample images\n",
        "#     img2 = cv2.imread(path) \n",
        "#     img2 = cv2.resize(img2, (image_size, image_size)) # resize the image size to 64 pixels * 64 pixels \n",
        "#     np_img2 =np.asarray(img2)\n",
        "#     m_data.append(img2)     # append the 'infected' images to the  main dataframe\n",
        "#     label.append(1)  #append '1' meaning  malaria\n"
      ],
      "metadata": {
        "id": "S8V2bYM8FdLa"
      },
      "id": "S8V2bYM8FdLa",
      "execution_count": 22,
      "outputs": []
    },
    {
      "cell_type": "code",
      "source": [
        "# plt.figure(figsize=(10,10))\n",
        "# plt.subplot(1, 2, 1)\n",
        "# plt.imshow(np_img)\n",
        "# plt.axis('off')\n",
        "# plt.title(\"Uninfected cell\")\n",
        "# plt.subplot(1, 2, 2)\n",
        "# plt.imshow(np_img2)\n",
        "# plt.axis('off')\n",
        "# plt.title(\"Infected malaria cells\")"
      ],
      "metadata": {
        "id": "kfEkQrRKFjik"
      },
      "id": "kfEkQrRKFjik",
      "execution_count": 23,
      "outputs": []
    },
    {
      "cell_type": "code",
      "source": [],
      "metadata": {
        "id": "YhE6w08IG6cI"
      },
      "id": "YhE6w08IG6cI",
      "execution_count": 23,
      "outputs": []
    },
    {
      "cell_type": "code",
      "source": [
        "# m_data = np.array(m_data)\n",
        "# m_data.shape"
      ],
      "metadata": {
        "id": "0A8NgXElFowO"
      },
      "id": "0A8NgXElFowO",
      "execution_count": 24,
      "outputs": []
    },
    {
      "cell_type": "code",
      "source": [
        "# from sklearn.model_selection import train_test_split\n",
        "# X_train, X_test, y_train, y_test = train_test_split(m_data, label, test_size=0.2, random_state=24)"
      ],
      "metadata": {
        "id": "orTh2AiKG69G"
      },
      "id": "orTh2AiKG69G",
      "execution_count": 25,
      "outputs": []
    },
    {
      "cell_type": "markdown",
      "source": [
        "# LeNet Architecture"
      ],
      "metadata": {
        "id": "O_cMtI9QIFH6"
      },
      "id": "O_cMtI9QIFH6"
    },
    {
      "cell_type": "code",
      "execution_count": 26,
      "id": "c119bc95-7c20-4219-889d-ee46ac652d33",
      "metadata": {
        "id": "c119bc95-7c20-4219-889d-ee46ac652d33"
      },
      "outputs": [],
      "source": [
        "import tensorflow as tf\n",
        "from tensorflow.keras.layers import AveragePooling2D, Dense, Conv2D, Flatten\n",
        "from tensorflow.keras.models import Sequential"
      ]
    },
    {
      "cell_type": "code",
      "execution_count": 27,
      "id": "bca18af4-63c8-48f5-a655-b7b87b301197",
      "metadata": {
        "id": "bca18af4-63c8-48f5-a655-b7b87b301197"
      },
      "outputs": [],
      "source": [
        "model1 = Sequential()\n",
        "\n",
        "# Input Layer\n",
        "model1.add(Conv2D(32, kernel_size = (5, 5), padding = \"same\", activation = \"sigmoid\", input_shape = (28, 28, 1)))\n",
        "model1.add(AveragePooling2D(pool_size = (2, 2), strides = 2))  #neuron number define how many features will be feed into the layer\n",
        "\n",
        "# 1st Hidden Layer\n",
        "model1.add(Conv2D(64, kernel_size = (5, 5), activation = \"sigmoid\"))\n",
        "model1.add(AveragePooling2D(pool_size = (2, 2), strides = 2))\n",
        "\n",
        "# Flatten Layer\n",
        "model1.add(Flatten())\n",
        "\n",
        "#Connected Layer\n",
        "model1.add(Dense(120, activation = \"sigmoid\"))\n",
        "model1.add(Dense(84,  activation = \"sigmoid\"))\n",
        "model1.add(Dense(2, activation = \"softmax\"))"
      ]
    },
    {
      "cell_type": "code",
      "execution_count": 28,
      "id": "fe530bc8-7b6f-424c-830b-ddbee20aa0c1",
      "metadata": {
        "colab": {
          "base_uri": "https://localhost:8080/"
        },
        "id": "fe530bc8-7b6f-424c-830b-ddbee20aa0c1",
        "outputId": "d9d85b48-0407-44e4-ee2f-25f4bf993322"
      },
      "outputs": [
        {
          "output_type": "stream",
          "name": "stdout",
          "text": [
            "Model: \"sequential_1\"\n",
            "_________________________________________________________________\n",
            " Layer (type)                Output Shape              Param #   \n",
            "=================================================================\n",
            " conv2d_2 (Conv2D)           (None, 28, 28, 32)        832       \n",
            "                                                                 \n",
            " average_pooling2d (AverageP  (None, 14, 14, 32)       0         \n",
            " ooling2D)                                                       \n",
            "                                                                 \n",
            " conv2d_3 (Conv2D)           (None, 10, 10, 64)        51264     \n",
            "                                                                 \n",
            " average_pooling2d_1 (Averag  (None, 5, 5, 64)         0         \n",
            " ePooling2D)                                                     \n",
            "                                                                 \n",
            " flatten_1 (Flatten)         (None, 1600)              0         \n",
            "                                                                 \n",
            " dense_4 (Dense)             (None, 120)               192120    \n",
            "                                                                 \n",
            " dense_5 (Dense)             (None, 84)                10164     \n",
            "                                                                 \n",
            " dense_6 (Dense)             (None, 2)                 170       \n",
            "                                                                 \n",
            "=================================================================\n",
            "Total params: 254,550\n",
            "Trainable params: 254,550\n",
            "Non-trainable params: 0\n",
            "_________________________________________________________________\n",
            "None\n"
          ]
        }
      ],
      "source": [
        "# # #Model Compilation\n",
        "# model1.compile(loss='categorical_crossentropy', optimizer='adam', metrics=['accuracy'])\n",
        "print(model1.summary())"
      ]
    },
    {
      "cell_type": "code",
      "source": [
        "# from tensorflow.keras.callbacks import EarlyStopping\n",
        "# # using early stopping to control epochs by monitoring 'loss'\n",
        "# callbacks = EarlyStopping(monitor='loss', patience=3)"
      ],
      "metadata": {
        "id": "hq7EhcOV_zUl"
      },
      "id": "hq7EhcOV_zUl",
      "execution_count": 29,
      "outputs": []
    },
    {
      "cell_type": "code",
      "execution_count": 30,
      "id": "d3607201-120e-4250-b99c-c8fd3cf5f660",
      "metadata": {
        "id": "d3607201-120e-4250-b99c-c8fd3cf5f660"
      },
      "outputs": [],
      "source": [
        "# np.random.seed(24)\n",
        "# history = model1.fit(X_train, y_train, batch_size = 24, verbose = 1, epochs = 6, validation_data = (X_test, y_test), callbacks = [callbacks])"
      ]
    },
    {
      "cell_type": "markdown",
      "source": [
        "# VGG19"
      ],
      "metadata": {
        "id": "XYwPY-WpHX5k"
      },
      "id": "XYwPY-WpHX5k"
    },
    {
      "cell_type": "code",
      "source": [
        "#importing the VGG19 model weights\n",
        "from tensorflow.keras.applications import VGG19\n",
        "\n",
        "VGG19_model = VGG19(include_top=False, weights=\"imagenet\", input_shape=(64, 64, 3))"
      ],
      "metadata": {
        "id": "ZksZ--VSB5Th"
      },
      "id": "ZksZ--VSB5Th",
      "execution_count": 31,
      "outputs": []
    },
    {
      "cell_type": "code",
      "source": [
        "#Setting trainable to false since you are not gonna retrain the model but will use its pretrained weights instead\n",
        "VGG19_model.trainable = False"
      ],
      "metadata": {
        "id": "qwAC3yE_Hc1q"
      },
      "id": "qwAC3yE_Hc1q",
      "execution_count": 32,
      "outputs": []
    },
    {
      "cell_type": "code",
      "source": [
        "#Creating model on top\n",
        "from tensorflow.keras import Input, Model\n",
        "from tensorflow.keras.layers import GlobalAveragePooling2D, Dropout\n",
        "\n",
        "inputs = Input(shape=(64, 64, 3))\n",
        "x = VGG19_model(inputs, training=False)\n",
        "x1 = GlobalAveragePooling2D()(x)\n",
        "outputs = Dense(2, activation='softmax')(x1)\n",
        "model_VGG19 = Model(inputs, outputs)\n",
        "model_VGG19.summary()"
      ],
      "metadata": {
        "colab": {
          "base_uri": "https://localhost:8080/"
        },
        "id": "vUJFSftXHfau",
        "outputId": "a2266c07-5219-42d7-f3ae-382755bb3fbe"
      },
      "id": "vUJFSftXHfau",
      "execution_count": 33,
      "outputs": [
        {
          "output_type": "stream",
          "name": "stdout",
          "text": [
            "Model: \"model\"\n",
            "_________________________________________________________________\n",
            " Layer (type)                Output Shape              Param #   \n",
            "=================================================================\n",
            " input_2 (InputLayer)        [(None, 64, 64, 3)]       0         \n",
            "                                                                 \n",
            " vgg19 (Functional)          (None, 2, 2, 512)         20024384  \n",
            "                                                                 \n",
            " global_average_pooling2d (G  (None, 512)              0         \n",
            " lobalAveragePooling2D)                                          \n",
            "                                                                 \n",
            " dense_7 (Dense)             (None, 2)                 1026      \n",
            "                                                                 \n",
            "=================================================================\n",
            "Total params: 20,025,410\n",
            "Trainable params: 1,026\n",
            "Non-trainable params: 20,024,384\n",
            "_________________________________________________________________\n"
          ]
        }
      ]
    },
    {
      "cell_type": "code",
      "source": [
        "from tensorflow.keras.optimizers import Adam\n",
        "\n",
        "model_VGG19.compile(optimizer=Adam(lr=0.01), loss='categorical_crossentropy', metrics=['accuracy'])"
      ],
      "metadata": {
        "id": "iS1wdHJHHlkc"
      },
      "id": "iS1wdHJHHlkc",
      "execution_count": 34,
      "outputs": []
    },
    {
      "cell_type": "code",
      "source": [
        "np.random.seed(50)\n",
        "history1 = model_VGG19.fit(X_train, y_train, batch_size = 64, verbose = 1, epochs = 5, validation_data = (X_test, y_test), callbacks = [callbacks])"
      ],
      "metadata": {
        "colab": {
          "base_uri": "https://localhost:8080/"
        },
        "id": "B_eYpTnvHxyG",
        "outputId": "7aaf376e-06b5-4420-bf6a-77390e9a36df"
      },
      "id": "B_eYpTnvHxyG",
      "execution_count": 35,
      "outputs": [
        {
          "output_type": "stream",
          "name": "stdout",
          "text": [
            "Epoch 1/5\n",
            "6/6 [==============================] - 20s 3s/step - loss: 2.2609 - accuracy: 0.7681 - val_loss: 1.6407 - val_accuracy: 0.8810\n",
            "Epoch 2/5\n",
            "6/6 [==============================] - 20s 3s/step - loss: 1.0580 - accuracy: 0.9187 - val_loss: 0.9604 - val_accuracy: 0.8810\n",
            "Epoch 3/5\n",
            "6/6 [==============================] - 22s 4s/step - loss: 0.6322 - accuracy: 0.9217 - val_loss: 0.4184 - val_accuracy: 0.9405\n",
            "Epoch 4/5\n",
            "6/6 [==============================] - 19s 3s/step - loss: 0.3850 - accuracy: 0.9729 - val_loss: 0.3792 - val_accuracy: 0.9524\n",
            "Epoch 5/5\n",
            "6/6 [==============================] - 19s 3s/step - loss: 0.2631 - accuracy: 0.9699 - val_loss: 0.3446 - val_accuracy: 0.9524\n"
          ]
        }
      ]
    },
    {
      "cell_type": "code",
      "source": [
        "import matplotlib.pyplot as plt\n",
        "# summarize history for accuracy\n",
        "plt.plot(history1.history['accuracy'])\n",
        "plt.plot(history1.history['val_accuracy'])\n",
        "plt.title('VGG19 model accuracy')\n",
        "plt.ylabel('acc')\n",
        "plt.xlabel('epoch')\n",
        "plt.legend(['train', 'test'], loc='upper left')\n",
        "plt.show()\n",
        "# summarize history for loss\n",
        "plt.plot(history1.history['loss'])\n",
        "plt.plot(history1.history['val_loss'])\n",
        "plt.title('VGG19 model loss')\n",
        "plt.ylabel('loss')\n",
        "plt.xlabel('epoch')\n",
        "plt.legend(['train', 'test'], loc='upper right')\n",
        "plt.show()"
      ],
      "metadata": {
        "colab": {
          "base_uri": "https://localhost:8080/",
          "height": 573
        },
        "id": "ov8ySCHnL7tT",
        "outputId": "387f1db3-80a0-42a2-fd97-cec674fb0794"
      },
      "id": "ov8ySCHnL7tT",
      "execution_count": 36,
      "outputs": [
        {
          "output_type": "display_data",
          "data": {
            "text/plain": [
              "<Figure size 432x288 with 1 Axes>"
            ],
            "image/png": "[encoded data removed]"
          },
          "metadata": {
            "needs_background": "light"
          }
        },
        {
          "output_type": "display_data",
          "data": {
            "text/plain": [
              "<Figure size 432x288 with 1 Axes>"
            ],
            "image/png": "[encoded data removed]"
          },
          "metadata": {
            "needs_background": "light"
          }
        }
      ]
    },
    {
      "cell_type": "code",
      "source": [
        "# plot confusion matrix:\n",
        "from sklearn.metrics import confusion_matrix\n",
        "import seaborn as sns\n",
        "\n",
        "preds1 = model_VGG19.predict(X_test)\n",
        "preds1 = preds1.argmax(axis=1)\n",
        "y_true1 = y_test.argmax(axis=1)\n",
        "mat = confusion_matrix(y_true1,preds1)\n",
        "sns.heatmap(mat, square=True, annot=True, fmt='d', cbar=False)\n",
        "plt.xlabel('predicted label')\n",
        "plt.ylabel('ground truth')\n",
        "plt.show()"
      ],
      "metadata": {
        "colab": {
          "base_uri": "https://localhost:8080/",
          "height": 279
        },
        "id": "mWPq4BLtMFz5",
        "outputId": "5812c5fc-80ff-4a36-9b10-d998a0e0186d"
      },
      "id": "mWPq4BLtMFz5",
      "execution_count": 37,
      "outputs": [
        {
          "output_type": "display_data",
          "data": {
            "text/plain": [
              "<Figure size 432x288 with 1 Axes>"
            ],
            "image/png": "[encoded data removed]"
          },
          "metadata": {
            "needs_background": "light"
          }
        }
      ]
    },
    {
      "cell_type": "code",
      "source": [
        "# classification report:\n",
        "from sklearn.metrics import classification_report\n",
        "\n",
        "print(classification_report(y_true1,preds1))"
      ],
      "metadata": {
        "colab": {
          "base_uri": "https://localhost:8080/"
        },
        "id": "fN8S5uhHMIxs",
        "outputId": "59140fc7-4908-43d2-995c-6c3a728dc92a"
      },
      "id": "fN8S5uhHMIxs",
      "execution_count": 38,
      "outputs": [
        {
          "output_type": "stream",
          "name": "stdout",
          "text": [
            "              precision    recall  f1-score   support\n",
            "\n",
            "           0       0.93      0.98      0.96        44\n",
            "           1       0.97      0.93      0.95        40\n",
            "\n",
            "    accuracy                           0.95        84\n",
            "   macro avg       0.95      0.95      0.95        84\n",
            "weighted avg       0.95      0.95      0.95        84\n",
            "\n"
          ]
        }
      ]
    },
    {
      "cell_type": "code",
      "source": [
        "# Compute ROC curve and ROC area for each class\n",
        "from sklearn.metrics import roc_curve, auc\n",
        "\n",
        "fpr, tpr, _ = roc_curve(y_true1, preds1)\n",
        "roc_auc = auc(fpr, tpr)\n",
        "# Plot of a ROC curve for a specific class\n",
        "plt.figure()\n",
        "plt.plot(fpr, tpr, label='ROC curve (area = %0.2f)' % roc_auc)\n",
        "plt.plot([0, 1], [0, 1], 'k--')\n",
        "plt.xlim([0.0, 1.0])\n",
        "plt.ylim([0.0, 1.05])\n",
        "# axis labels\n",
        "plt.xlabel('False Positive Rate')\n",
        "plt.ylabel('True Positive Rate')\n",
        "plt.title('VGG19 Receiver operating characteristic Curve')\n",
        "plt.legend(loc=\"lower right\")\n",
        "plt.show()"
      ],
      "metadata": {
        "colab": {
          "base_uri": "https://localhost:8080/",
          "height": 295
        },
        "id": "B5XPPl8KMLgc",
        "outputId": "f070b624-f01e-4c89-d834-cbd4197d06de"
      },
      "id": "B5XPPl8KMLgc",
      "execution_count": 39,
      "outputs": [
        {
          "output_type": "display_data",
          "data": {
            "text/plain": [
              "<Figure size 432x288 with 1 Axes>"
            ],
            "image/png": "[encoded data removed]"
          },
          "metadata": {
            "needs_background": "light"
          }
        }
      ]
    },
    {
      "cell_type": "code",
      "source": [
        "#pr curve\n",
        "from sklearn.metrics import precision_recall_curve, f1_score, auc\n",
        "\n",
        "precision, recall, _ = precision_recall_curve(y_true1, preds1)\n",
        "f1, auc = f1_score(y_true1, preds1), auc(recall, precision)\n",
        "\n",
        "# plot the precision-recall curves\n",
        "plt.plot(recall, precision, label='PR curve: f1=%.2f auc=%.2f' % (f1, auc))\n",
        "# axis labels\n",
        "plt.xlabel('Recall')\n",
        "plt.ylabel('Precision')\n",
        "plt.title('VGG19 Precision-Recall Curve')\n",
        "# show the legend\n",
        "plt.legend()\n",
        "# show the plot\n",
        "plt.show()"
      ],
      "metadata": {
        "colab": {
          "base_uri": "https://localhost:8080/",
          "height": 295
        },
        "id": "ak19hH0PMN_t",
        "outputId": "d4a3ff70-34ef-4a18-d461-f95b6f32bc80"
      },
      "id": "ak19hH0PMN_t",
      "execution_count": 40,
      "outputs": [
        {
          "output_type": "display_data",
          "data": {
            "text/plain": [
              "<Figure size 432x288 with 1 Axes>"
            ],
            "image/png": "[encoded data removed]"
          },
          "metadata": {
            "needs_background": "light"
          }
        }
      ]
    },
    {
      "cell_type": "markdown",
      "source": [
        "CNN fine tuning"
      ],
      "metadata": {
        "id": "q2GSzufHMV0V"
      },
      "id": "q2GSzufHMV0V"
    },
    {
      "cell_type": "code",
      "source": [
        "import tensorflow as tf\n",
        "from tensorflow import keras"
      ],
      "metadata": {
        "id": "293bdpWIMYAf"
      },
      "id": "293bdpWIMYAf",
      "execution_count": 41,
      "outputs": []
    },
    {
      "cell_type": "code",
      "source": [
        "!pip install -q -U keras-tuner"
      ],
      "metadata": {
        "id": "KkM695AsMY1T"
      },
      "id": "KkM695AsMY1T",
      "execution_count": 42,
      "outputs": []
    },
    {
      "cell_type": "code",
      "source": [
        "import keras_tuner as kt"
      ],
      "metadata": {
        "id": "8s9voZ4lM0Vs"
      },
      "id": "8s9voZ4lM0Vs",
      "execution_count": 43,
      "outputs": []
    },
    {
      "cell_type": "code",
      "source": [
        "from tensorflow.keras.optimizers import Adam\n",
        "# building the model and compiling it with the parameters to \n",
        "#optimise and search through using: \n",
        "# hp.choice('units', [8,16,32])\n",
        "# hp.Choice('learning_rate', values=[0.01, 0.001, 0.0001])\n",
        "\n",
        "def build_model(hp):\n",
        "    model = Sequential()\n",
        "    model.add(Conv2D(hp.Choice('filters', [8, 16, 32]), kernel_size=(3, 3), \n",
        "                     input_shape=(64, 64, 3), activation='relu'))\n",
        "    model.add(MaxPooling2D(pool_size=(2, 2)))\n",
        "    model.add(Dropout(0.2))\n",
        "    model.add(Conv2D(filters=32, kernel_size=(3, 3), activation='relu'))\n",
        "    model.add(MaxPooling2D(pool_size=(2, 2)))\n",
        "    model.add(Dropout(0.2))\n",
        "    model.add(Flatten())\n",
        "    model.add(Dense(units=512, activation='relu'))\n",
        "    model.add(Dropout(0.2))\n",
        "    model.add(Dense(units=128, activation='relu'))\n",
        "    model.add(Dropout(0.2))\n",
        "    model.add(Dense(units=32, activation='relu'))\n",
        "    model.add(Dropout(0.2))\n",
        "    model.add(Dense(units=16, activation='relu'))\n",
        "    model.add(Dense(units=2, activation='softmax'))\n",
        "    \n",
        "    hp_lR = hp.Choice('learning_rate', values=[0.01, 0.001, 0.0001])\n",
        "    model.compile(loss='categorical_crossentropy', \n",
        "                  optimizer=Adam(learning_rate = hp_lR), metrics=['accuracy'])\n",
        "    return model"
      ],
      "metadata": {
        "id": "maQFRF8VM3yT"
      },
      "id": "maQFRF8VM3yT",
      "execution_count": 44,
      "outputs": []
    },
    {
      "cell_type": "code",
      "source": [
        "#using HYPERBAND from keras_tuner\n",
        "tuner = kt.Hyperband(hypermodel= build_model, objective=\"val_accuracy\", factor = 3, overwrite = True, max_epochs=6)"
      ],
      "metadata": {
        "id": "hTm4pfthNBUZ"
      },
      "id": "hTm4pfthNBUZ",
      "execution_count": 45,
      "outputs": []
    },
    {
      "cell_type": "code",
      "source": [
        "from tensorflow.keras.callbacks import EarlyStopping\n",
        "\n",
        "callback = EarlyStopping(monitor='loss', patience=3)"
      ],
      "metadata": {
        "id": "lpRVkspuNB0z"
      },
      "id": "lpRVkspuNB0z",
      "execution_count": 46,
      "outputs": []
    },
    {
      "cell_type": "code",
      "source": [
        "# starting the search\n",
        "tuner.search(X_train, y_train, epochs=5, validation_data=(X_test, y_test), callbacks =[callback])\n",
        "best_model = tuner.get_best_hyperparameters(num_trials=3)[0]"
      ],
      "metadata": {
        "colab": {
          "base_uri": "https://localhost:8080/"
        },
        "id": "Cmd2-J3XNEir",
        "outputId": "0b5b3acd-a563-4036-b8c1-474c993cbaa3"
      },
      "id": "Cmd2-J3XNEir",
      "execution_count": 47,
      "outputs": [
        {
          "output_type": "stream",
          "name": "stdout",
          "text": [
            "Trial 10 Complete [00h 00m 12s]\n",
            "val_accuracy: 0.5952380895614624\n",
            "\n",
            "Best val_accuracy So Far: 0.5952380895614624\n",
            "Total elapsed time: 00h 01m 47s\n"
          ]
        }
      ]
    },
    {
      "cell_type": "code",
      "source": [
        "# fitting tuned model\n",
        "model_tuned = tuner.hypermodel.build(best_model)\n",
        "history3 = model_tuned.fit(X_train, y_train, validation_data=(X_test, y_test), epochs=20, batch_size=64, callbacks=[callbacks])"
      ],
      "metadata": {
        "colab": {
          "base_uri": "https://localhost:8080/"
        },
        "id": "B7SH0ZwyQriL",
        "outputId": "0caf2e1a-d103-4925-81a6-90bcc4f07e89"
      },
      "id": "B7SH0ZwyQriL",
      "execution_count": 48,
      "outputs": [
        {
          "output_type": "stream",
          "name": "stdout",
          "text": [
            "Epoch 1/20\n",
            "6/6 [==============================] - 2s 205ms/step - loss: 16.3707 - accuracy: 0.5452 - val_loss: 3.1081 - val_accuracy: 0.5476\n",
            "Epoch 2/20\n",
            "6/6 [==============================] - 1s 227ms/step - loss: 13.0700 - accuracy: 0.4819 - val_loss: 1.7085 - val_accuracy: 0.4405\n",
            "Epoch 3/20\n",
            "6/6 [==============================] - 1s 209ms/step - loss: 7.1649 - accuracy: 0.5000 - val_loss: 1.7671 - val_accuracy: 0.4881\n",
            "Epoch 4/20\n",
            "6/6 [==============================] - 1s 170ms/step - loss: 6.4632 - accuracy: 0.4669 - val_loss: 0.7461 - val_accuracy: 0.5714\n",
            "Epoch 5/20\n",
            "6/6 [==============================] - 1s 173ms/step - loss: 5.2623 - accuracy: 0.5000 - val_loss: 0.6778 - val_accuracy: 0.5357\n",
            "Epoch 6/20\n",
            "6/6 [==============================] - 1s 172ms/step - loss: 5.0892 - accuracy: 0.4789 - val_loss: 1.0963 - val_accuracy: 0.4643\n",
            "Epoch 7/20\n",
            "6/6 [==============================] - 1s 167ms/step - loss: 3.6381 - accuracy: 0.5120 - val_loss: 0.8402 - val_accuracy: 0.4762\n",
            "Epoch 8/20\n",
            "6/6 [==============================] - 1s 171ms/step - loss: 2.9811 - accuracy: 0.5271 - val_loss: 0.9341 - val_accuracy: 0.4762\n",
            "Epoch 9/20\n",
            "6/6 [==============================] - 1s 169ms/step - loss: 2.4866 - accuracy: 0.5482 - val_loss: 0.8910 - val_accuracy: 0.4643\n",
            "Epoch 10/20\n",
            "6/6 [==============================] - 1s 174ms/step - loss: 2.7526 - accuracy: 0.5301 - val_loss: 0.6754 - val_accuracy: 0.5833\n",
            "Epoch 11/20\n",
            "6/6 [==============================] - 1s 179ms/step - loss: 2.9444 - accuracy: 0.5000 - val_loss: 0.6958 - val_accuracy: 0.5357\n",
            "Epoch 12/20\n",
            "6/6 [==============================] - 1s 170ms/step - loss: 2.1720 - accuracy: 0.5030 - val_loss: 0.8409 - val_accuracy: 0.4167\n",
            "Epoch 13/20\n",
            "6/6 [==============================] - 1s 171ms/step - loss: 2.0554 - accuracy: 0.5090 - val_loss: 0.7992 - val_accuracy: 0.4286\n",
            "Epoch 14/20\n",
            "6/6 [==============================] - 1s 173ms/step - loss: 1.7318 - accuracy: 0.5120 - val_loss: 0.7230 - val_accuracy: 0.4405\n",
            "Epoch 15/20\n",
            "6/6 [==============================] - 1s 169ms/step - loss: 2.1442 - accuracy: 0.4699 - val_loss: 0.7464 - val_accuracy: 0.4167\n",
            "Epoch 16/20\n",
            "6/6 [==============================] - 1s 173ms/step - loss: 1.9990 - accuracy: 0.5000 - val_loss: 0.7452 - val_accuracy: 0.4048\n",
            "Epoch 17/20\n",
            "6/6 [==============================] - 1s 169ms/step - loss: 1.5230 - accuracy: 0.5482 - val_loss: 0.7079 - val_accuracy: 0.4048\n",
            "Epoch 18/20\n",
            "6/6 [==============================] - 1s 211ms/step - loss: 2.0000 - accuracy: 0.5000 - val_loss: 0.6702 - val_accuracy: 0.6548\n",
            "Epoch 19/20\n",
            "6/6 [==============================] - 2s 323ms/step - loss: 1.7153 - accuracy: 0.4970 - val_loss: 0.6821 - val_accuracy: 0.5476\n",
            "Epoch 20/20\n",
            "6/6 [==============================] - 2s 324ms/step - loss: 1.4167 - accuracy: 0.5633 - val_loss: 0.6818 - val_accuracy: 0.5476\n"
          ]
        }
      ]
    },
    {
      "cell_type": "code",
      "source": [
        "import matplotlib.pyplot as plt\n",
        "# summarize history for accuracy\n",
        "plt.plot(history3.history['accuracy'])\n",
        "plt.plot(history3.history['val_accuracy'])\n",
        "plt.title('Finetuned CNN model accuracy')\n",
        "plt.ylabel('acc')\n",
        "plt.xlabel('epoch')\n",
        "plt.legend(['train', 'test'], loc='upper left')\n",
        "plt.show()\n",
        "# summarize history for loss\n",
        "plt.plot(history3.history['loss'])\n",
        "plt.plot(history3.history['val_loss'])\n",
        "plt.title('Finetuned CNN model loss')\n",
        "plt.ylabel('loss')\n",
        "plt.xlabel('epoch')\n",
        "plt.legend(['train', 'test'], loc='upper right')\n",
        "plt.show()"
      ],
      "metadata": {
        "colab": {
          "base_uri": "https://localhost:8080/",
          "height": 573
        },
        "id": "EhgSk8fTNMgT",
        "outputId": "70399ab9-c597-4041-a935-79b4dfe26993"
      },
      "id": "EhgSk8fTNMgT",
      "execution_count": 49,
      "outputs": [
        {
          "output_type": "display_data",
          "data": {
            "text/plain": [
              "<Figure size 432x288 with 1 Axes>"
            ],
            "image/png": "[encoded data removed]"
          },
          "metadata": {
            "needs_background": "light"
          }
        },
        {
          "output_type": "display_data",
          "data": {
            "text/plain": [
              "<Figure size 432x288 with 1 Axes>"
            ],
            "image/png": "[encoded data removed]"
          },
          "metadata": {
            "needs_background": "light"
          }
        }
      ]
    },
    {
      "cell_type": "code",
      "source": [
        "# plot confusion matrix:\n",
        "from sklearn.metrics import confusion_matrix\n",
        "import seaborn as sns\n",
        "\n",
        "preds3 = model_tuned.predict(X_test)\n",
        "preds3 = preds3.argmax(axis=1)\n",
        "y_true3 = y_test.argmax(axis=1)\n",
        "mat = confusion_matrix(y_true3, preds3)\n",
        "sns.heatmap(mat, square=True, annot=True, fmt='d', cbar=False)\n",
        "plt.xlabel('predicted label')\n",
        "plt.ylabel('ground truth')\n",
        "plt.show()"
      ],
      "metadata": {
        "colab": {
          "base_uri": "https://localhost:8080/",
          "height": 279
        },
        "id": "BjyHmNMoQwK7",
        "outputId": "9ac1bded-d92e-4e7e-cf22-7510ec8cad99"
      },
      "id": "BjyHmNMoQwK7",
      "execution_count": 50,
      "outputs": [
        {
          "output_type": "display_data",
          "data": {
            "text/plain": [
              "<Figure size 432x288 with 1 Axes>"
            ],
            "image/png": "[encoded data removed]"
          },
          "metadata": {
            "needs_background": "light"
          }
        }
      ]
    },
    {
      "cell_type": "code",
      "source": [
        "# classification report:\n",
        "from sklearn.metrics import classification_report\n",
        "\n",
        "print(classification_report(y_true3,preds3))"
      ],
      "metadata": {
        "colab": {
          "base_uri": "https://localhost:8080/"
        },
        "id": "EMcNe8GfS9Ph",
        "outputId": "365af576-fd68-44f4-dfd6-297bb9291fd1"
      },
      "id": "EMcNe8GfS9Ph",
      "execution_count": 51,
      "outputs": [
        {
          "output_type": "stream",
          "name": "stdout",
          "text": [
            "              precision    recall  f1-score   support\n",
            "\n",
            "           0       0.54      0.91      0.68        44\n",
            "           1       0.60      0.15      0.24        40\n",
            "\n",
            "    accuracy                           0.55        84\n",
            "   macro avg       0.57      0.53      0.46        84\n",
            "weighted avg       0.57      0.55      0.47        84\n",
            "\n"
          ]
        }
      ]
    },
    {
      "cell_type": "code",
      "source": [
        "# Compute ROC curve and ROC area for each class\n",
        "from sklearn.metrics import roc_curve, auc\n",
        "\n",
        "fpr, tpr, _ = roc_curve(y_true3, preds3)\n",
        "roc_auc = auc(fpr, tpr)\n",
        "# Plot of a ROC curve for a specific class\n",
        "plt.figure()\n",
        "plt.plot(fpr, tpr, label='ROC curve (area = %0.2f)' % roc_auc)\n",
        "plt.plot([0, 1], [0, 1], 'k--')\n",
        "plt.xlim([0.0, 1.0])\n",
        "plt.ylim([0.0, 1.05])\n",
        "# axis labels\n",
        "plt.xlabel('False Positive Rate')\n",
        "plt.ylabel('True Positive Rate')\n",
        "plt.title('Finetuned CNN Receiver operating characteristic Curve')\n",
        "plt.legend(loc=\"lower right\")\n",
        "plt.show()"
      ],
      "metadata": {
        "colab": {
          "base_uri": "https://localhost:8080/",
          "height": 295
        },
        "id": "-SCKCuknTCE7",
        "outputId": "500335d2-f025-4a7c-f41f-1b4f43e1be30"
      },
      "id": "-SCKCuknTCE7",
      "execution_count": 52,
      "outputs": [
        {
          "output_type": "display_data",
          "data": {
            "text/plain": [
              "<Figure size 432x288 with 1 Axes>"
            ],
            "image/png": "[encoded data removed]"
          },
          "metadata": {
            "needs_background": "light"
          }
        }
      ]
    },
    {
      "cell_type": "code",
      "source": [
        "#pr curve\n",
        "from sklearn.metrics import precision_recall_curve, f1_score, auc\n",
        "\n",
        "precision, recall, _ = precision_recall_curve(y_true3, preds3)\n",
        "f1, auc = f1_score(y_true3, preds3), auc(recall, precision)\n",
        "\n",
        "# plot the precision-recall curves\n",
        "plt.plot(recall, precision, label='PR curve: f1=%.2f auc=%.2f' % (f1, auc))\n",
        "# axis labels\n",
        "plt.xlabel('Recall')\n",
        "plt.ylabel('Precision')\n",
        "plt.title('Finetuned CNN Precision-Recall Curve')\n",
        "# show the legend\n",
        "plt.legend()\n",
        "# show the plot\n",
        "plt.show()"
      ],
      "metadata": {
        "colab": {
          "base_uri": "https://localhost:8080/",
          "height": 295
        },
        "id": "1-HDuaClTHeM",
        "outputId": "07b0f041-761b-477c-ca4b-e18f649264cd"
      },
      "id": "1-HDuaClTHeM",
      "execution_count": 53,
      "outputs": [
        {
          "output_type": "display_data",
          "data": {
            "text/plain": [
              "<Figure size 432x288 with 1 Axes>"
            ],
            "image/png": "[encoded data removed]"
          },
          "metadata": {
            "needs_background": "light"
          }
        }
      ]
    },
    {
      "cell_type": "markdown",
      "source": [
        "# AlexNet"
      ],
      "metadata": {
        "id": "YL3BrpnPTtUN"
      },
      "id": "YL3BrpnPTtUN"
    },
    {
      "cell_type": "code",
      "source": [
        "import tensorflow as tf\n",
        "from tensorflow.keras.layers import MaxPooling2D, Dense, Conv2D, Flatten\n",
        "from tensorflow.keras.models import Sequential"
      ],
      "metadata": {
        "id": "Z5E2DauPT9fB"
      },
      "id": "Z5E2DauPT9fB",
      "execution_count": null,
      "outputs": []
    },
    {
      "cell_type": "code",
      "source": [
        "model2 = Sequential()\n",
        "\n",
        "# Input Layer\n",
        "model2.add(Conv2D(32, kernel_size = (11,11), strides = 4, activation = \"relu\", input_shape = (224, 224, 3)))\n",
        "model2.add(MaxPooling2D(pool_size = (3, 3), strides = 2))  #neuron number define how many features will be feed into the layer\n",
        "\n",
        "# Hidden Layer\n",
        "model2.add(Conv2D(64, kernel_size = (5, 5),padding = \"same\", activation = \"relu\"))\n",
        "model2.add(MaxPooling2D(pool_size = (3, 3), strides = 2))\n",
        "\n",
        "model2.add(Conv2D(128, kernel_size = (3, 3),padding = \"valid\", activation = \"relu\"))\n",
        "model2.add(Conv2D(128, kernel_size = (3, 3),padding = \"valid\" ,activation = \"relu\"))\n",
        "model2.add(Conv2D(128, kernel_size = (3, 3),padding = \"valid\" ,activation = \"relu\"))\n",
        "model2.add(MaxPooling2D(pool_size = (3, 3), strides = 2))\n",
        "\n",
        "\n",
        "# Flatten Layer\n",
        "model2.add(Flatten())\n",
        "\n",
        "#Connected Layer\n",
        "model2.add(Dense(4096, activation = \"relu\"))\n",
        "model2.add(Dense(4096,  activation = \"relu\"))\n",
        "model2.add(Dense(2, activation = \"softmax\"))"
      ],
      "metadata": {
        "id": "r__2u6RzTrhM"
      },
      "id": "r__2u6RzTrhM",
      "execution_count": 58,
      "outputs": []
    },
    {
      "cell_type": "code",
      "source": [
        "model2.summary()"
      ],
      "metadata": {
        "colab": {
          "base_uri": "https://localhost:8080/"
        },
        "id": "iIVzYOEjXrps",
        "outputId": "ee65d36e-19c3-4be4-881c-2d011ef7515d"
      },
      "id": "iIVzYOEjXrps",
      "execution_count": 60,
      "outputs": [
        {
          "output_type": "stream",
          "name": "stdout",
          "text": [
            "Model: \"sequential_3\"\n",
            "_________________________________________________________________\n",
            " Layer (type)                Output Shape              Param #   \n",
            "=================================================================\n",
            " conv2d_9 (Conv2D)           (None, 54, 54, 32)        11648     \n",
            "                                                                 \n",
            " max_pooling2d_7 (MaxPooling  (None, 26, 26, 32)       0         \n",
            " 2D)                                                             \n",
            "                                                                 \n",
            " conv2d_10 (Conv2D)          (None, 26, 26, 64)        51264     \n",
            "                                                                 \n",
            " max_pooling2d_8 (MaxPooling  (None, 12, 12, 64)       0         \n",
            " 2D)                                                             \n",
            "                                                                 \n",
            " conv2d_11 (Conv2D)          (None, 10, 10, 128)       73856     \n",
            "                                                                 \n",
            " conv2d_12 (Conv2D)          (None, 8, 8, 128)         147584    \n",
            "                                                                 \n",
            " conv2d_13 (Conv2D)          (None, 6, 6, 128)         147584    \n",
            "                                                                 \n",
            " max_pooling2d_9 (MaxPooling  (None, 2, 2, 128)        0         \n",
            " 2D)                                                             \n",
            "                                                                 \n",
            " flatten_3 (Flatten)         (None, 512)               0         \n",
            "                                                                 \n",
            " dense_13 (Dense)            (None, 4096)              2101248   \n",
            "                                                                 \n",
            " dense_14 (Dense)            (None, 4096)              16781312  \n",
            "                                                                 \n",
            " dense_15 (Dense)            (None, 2)                 8194      \n",
            "                                                                 \n",
            "=================================================================\n",
            "Total params: 19,322,690\n",
            "Trainable params: 19,322,690\n",
            "Non-trainable params: 0\n",
            "_________________________________________________________________\n"
          ]
        }
      ]
    },
    {
      "cell_type": "code",
      "source": [],
      "metadata": {
        "id": "baFXsxj3Ycm9"
      },
      "id": "baFXsxj3Ycm9",
      "execution_count": null,
      "outputs": []
    }
  ],
  "metadata": {
    "kernelspec": {
      "display_name": "Python 3 (ipykernel)",
      "language": "python",
      "name": "python3"
    },
    "language_info": {
      "codemirror_mode": {
        "name": "ipython",
        "version": 3
      },
      "file_extension": ".py",
      "mimetype": "text/x-python",
      "name": "python",
      "nbconvert_exporter": "python",
      "pygments_lexer": "ipython3",
      "version": "3.7.13"
    },
    "colab": {
      "provenance": [],
      "collapsed_sections": [],
      "include_colab_link": true
    }
  },
  "nbformat": 4,
  "nbformat_minor": 5
}